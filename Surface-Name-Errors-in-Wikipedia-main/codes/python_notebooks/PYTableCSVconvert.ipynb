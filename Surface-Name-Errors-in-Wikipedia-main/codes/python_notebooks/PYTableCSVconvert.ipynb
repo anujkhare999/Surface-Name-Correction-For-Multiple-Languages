{
 "cells": [
  {
   "cell_type": "code",
   "execution_count": 61,
   "metadata": {},
   "outputs": [],
   "source": "file1 = open('Table2.txt', 'r')\nLines = file1.readlines()\n \n"
  },
  {
   "cell_type": "code",
   "execution_count": null,
   "metadata": {},
   "outputs": [],
   "source": "import csv\n"
  },
  {
   "cell_type": "code",
   "execution_count": null,
   "metadata": {},
   "outputs": [],
   "source": "count = 0\n# Strips the newline character\nwith open('Table2.1.csv', mode='w') as csv_file:\n    fieldnames = ['surfaceNamesId', 'surfaceName']\n    writer = csv.DictWriter(csv_file, fieldnames=fieldnames)\n    writer.writeheader()\n    for line in Lines:\n        count+= 1\n        cols = line.split(\",\",1)\n        if len(cols)<2:\n            continue\n        cols[1]= cols[1].replace(',', \"\\,\")\n        cols[1]= cols[1].replace('\\n', \"\")\n        writer.writerow({'surfaceNamesId': str(cols[0]), 'surfaceName': str(cols[1])})\nprint(count)"
  },
  {
   "cell_type": "code",
   "execution_count": null,
   "metadata": {},
   "outputs": [],
   "source": ""
  },
  {
   "cell_type": "code",
   "execution_count": null,
   "metadata": {},
   "outputs": [],
   "source": ""
  }
 ],
 "metadata": {
  "kernelspec": {
   "display_name": "Python 3",
   "language": "python",
   "name": "python3"
  },
  "language_info": {
   "codemirror_mode": {
    "name": "ipython",
    "version": 3
   },
   "file_extension": ".py",
   "mimetype": "text/x-python",
   "name": "python",
   "nbconvert_exporter": "python",
   "pygments_lexer": "ipython3",
   "version": "3.6.9"
  }
 },
 "nbformat": 4,
 "nbformat_minor": 4
}
