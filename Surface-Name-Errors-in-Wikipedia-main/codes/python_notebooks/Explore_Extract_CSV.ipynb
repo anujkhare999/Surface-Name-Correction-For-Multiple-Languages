{
 "cells": [
  {
   "cell_type": "code",
   "execution_count": 1,
   "metadata": {},
   "outputs": [],
   "source": [
    "import csv\n",
    "file_path = \"/ssd/Dumps/\""
   ]
  },
  {
   "cell_type": "code",
   "execution_count": 2,
   "metadata": {},
   "outputs": [],
   "source": [
    "file_name = \"artictDetails.csv\""
   ]
  },
  {
   "cell_type": "code",
   "execution_count": null,
   "metadata": {},
   "outputs": [],
   "source": [
    "file_name = \"src_dest_SN.csv\""
   ]
  },
  {
   "cell_type": "code",
   "execution_count": null,
   "metadata": {},
   "outputs": [],
   "source": [
    "file_name = \"all-titles-in-ns0.csv\""
   ]
  },
  {
   "cell_type": "code",
   "execution_count": null,
   "metadata": {},
   "outputs": [],
   "source": [
    "file_name = \"all-redirects-in-ns0.csv\""
   ]
  },
  {
   "cell_type": "code",
   "execution_count": 11,
   "metadata": {},
   "outputs": [],
   "source": [
    "def firstl(file_cur,num_lines,skip,alternate):\n",
    "    count = 0\n",
    "    if alternate == 1:\n",
    "        num_lines *= 2\n",
    "    for line in file_cur:\n",
    "        count += 1\n",
    "        if count < skip:\n",
    "            continue\n",
    "        if alternate == 1 and count %2 == 0:\n",
    "            continue\n",
    "        if count > num_lines+skip:\n",
    "            break\n",
    "        print(line)"
   ]
  },
  {
   "cell_type": "code",
   "execution_count": 13,
   "metadata": {},
   "outputs": [
    {
     "name": "stdout",
     "output_type": "stream",
     "text": [
      "articles_text/AA/wiki_00,\"<doc id=\"\"12\"\" url=\"\"https://en.wikipedia.org/wiki?curid=12\"\" title=\"\"Anarchism\"\">\n",
      "\n",
      "articles_text/AA/wiki_00,\"<doc id=\"\"25\"\" url=\"\"https://en.wikipedia.org/wiki?curid=25\"\" title=\"\"Autism\"\">\n",
      "\n",
      "articles_text/AA/wiki_00,\"<doc id=\"\"39\"\" url=\"\"https://en.wikipedia.org/wiki?curid=39\"\" title=\"\"Albedo\"\">\n",
      "\n",
      "articles_text/AA/wiki_00,\"<doc id=\"\"272\"\" url=\"\"https://en.wikipedia.org/wiki?curid=272\"\" title=\"\"AcademicElitism\"\">\n",
      "\n",
      "articles_text/AA/wiki_00,\"<doc id=\"\"290\"\" url=\"\"https://en.wikipedia.org/wiki?curid=290\"\" title=\"\"A\"\">\n",
      "\n",
      "articles_text/AA/wiki_00,\"<doc id=\"\"303\"\" url=\"\"https://en.wikipedia.org/wiki?curid=303\"\" title=\"\"Alabama\"\">\n",
      "\n",
      "articles_text/AA/wiki_00,\"<doc id=\"\"305\"\" url=\"\"https://en.wikipedia.org/wiki?curid=305\"\" title=\"\"Achilles\"\">\n",
      "\n",
      "articles_text/AA/wiki_00,\"<doc id=\"\"307\"\" url=\"\"https://en.wikipedia.org/wiki?curid=307\"\" title=\"\"Abraham Lincoln\"\">\n",
      "\n",
      "articles_text/AA/wiki_00,\"<doc id=\"\"308\"\" url=\"\"https://en.wikipedia.org/wiki?curid=308\"\" title=\"\"Aristotle\"\">\n",
      "\n",
      "articles_text/AA/wiki_00,\"<doc id=\"\"309\"\" url=\"\"https://en.wikipedia.org/wiki?curid=309\"\" title=\"\"An American in Paris\"\">\n",
      "\n"
     ]
    }
   ],
   "source": [
    "#RUN to explore the particular file\n",
    "file_cur = open(file_path+file_name,\"r\")\n",
    "num_lines = 10\n",
    "skip = 0\n",
    "alternate = 1\n",
    "firstl(file_cur,num_lines,skip,alternate)"
   ]
  },
  {
   "cell_type": "code",
   "execution_count": 8,
   "metadata": {},
   "outputs": [],
   "source": [
    "def extract(file_cur,num_lines,skip,alternate, dict_pid , dict_title):\n",
    "    count = 0\n",
    "    total = 6234000\n",
    "    for line in file_cur:\n",
    "        count += 1\n",
    "        if line.find(\"id\") == -1:\n",
    "            continue\n",
    "        index = line.find('id=\"\"')\n",
    "        pid = line[index+5:line.find('\"\"',index+5)]\n",
    "        index = line.find('title=\"\"')\n",
    "        title = line[index+8:line.find('\"\">',index+8)]\n",
    "        dict_pid[pid]=title\n",
    "        loc = line[:line.find(',')]\n",
    "        if count % 1000 == 0:\n",
    "            perc = count*100/total\n",
    "            print(perc,end='\\r')\n",
    "        dict_title[title] = [pid,loc]"
   ]
  },
  {
   "cell_type": "code",
   "execution_count": 9,
   "metadata": {},
   "outputs": [],
   "source": [
    "#Run to extract dictionaries\n",
    "file_cur = open(file_path+file_name,\"r\")\n",
    "dict_pid = {}\n",
    "dict_title = {}\n",
    "num_lines = 0\n",
    "skip = 0\n",
    "alternate = 0\n",
    "extract(file_cur,num_lines,skip,alternate, dict_pid , dict_title)\n"
   ]
  },
  {
   "cell_type": "code",
   "execution_count": 11,
   "metadata": {},
   "outputs": [],
   "source": [
    "import json"
   ]
  },
  {
   "cell_type": "code",
   "execution_count": 33,
   "metadata": {},
   "outputs": [],
   "source": [
    "#To  export dictionary\n",
    "with open(file_path+\"pid_to_title.json\", \"w\", encoding='utf-8') as write_file:\n",
    "    json.dump(dict_pid, write_file, indent=4,ensure_ascii=False)\n"
   ]
  },
  {
   "cell_type": "code",
   "execution_count": 12,
   "metadata": {},
   "outputs": [],
   "source": [
    "with open(file_path+\"title_to_loc.json\", \"w\", encoding='utf-8') as write_file:\n",
    "    json.dump(dict_title, write_file, indent=4,ensure_ascii=False)"
   ]
  },
  {
   "cell_type": "code",
   "execution_count": 26,
   "metadata": {},
   "outputs": [
    {
     "data": {
      "text/plain": [
       "{}"
      ]
     },
     "execution_count": 26,
     "metadata": {},
     "output_type": "execute_result"
    }
   ],
   "source": [
    "dict_title"
   ]
  },
  {
   "cell_type": "code",
   "execution_count": null,
   "metadata": {},
   "outputs": [],
   "source": []
  }
 ],
 "metadata": {
  "kernelspec": {
   "display_name": "Python 3",
   "language": "python",
   "name": "python3"
  },
  "language_info": {
   "codemirror_mode": {
    "name": "ipython",
    "version": 3
   },
   "file_extension": ".py",
   "mimetype": "text/x-python",
   "name": "python",
   "nbconvert_exporter": "python",
   "pygments_lexer": "ipython3",
   "version": "3.6.9"
  }
 },
 "nbformat": 4,
 "nbformat_minor": 2
}
