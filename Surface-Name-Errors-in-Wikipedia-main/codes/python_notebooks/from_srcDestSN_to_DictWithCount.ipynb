{
 "cells": [
  {
   "cell_type": "code",
   "execution_count": 6,
   "metadata": {},
   "outputs": [],
   "source": [
    "import csv\n",
    "import json\n",
    "from collections import OrderedDict\n",
    "import operator"
   ]
  },
  {
   "cell_type": "code",
   "execution_count": 7,
   "metadata": {},
   "outputs": [
    {
     "data": {
      "text/plain": [
       "'\\nRead csv file and do :\\n1. Make two dicts of articles that have links (src and dest)\\n2. Make a dict of all surfacenames used with count\\n3. Make a dict of [dest][surfacenamme] with count\\n4. Export all 4 dicts as JSON\\n'"
      ]
     },
     "execution_count": 7,
     "metadata": {},
     "output_type": "execute_result"
    }
   ],
   "source": [
    "'''\n",
    "Read csv file and do :\n",
    "1. Make two dicts of articles that have links (src and dest)\n",
    "2. Make a dict of all surfacenames used with count\n",
    "3. Make a dict of [dest][surfacenamme] with count\n",
    "4. Export all 4 dicts as JSON\n",
    "'''"
   ]
  },
  {
   "cell_type": "code",
   "execution_count": 8,
   "metadata": {},
   "outputs": [],
   "source": [
    "file_path = \"/ssd/Dumps/\"\n",
    "PATH_INPUT = file_path + \"src_dest_SN.csv\""
   ]
  },
  {
   "cell_type": "code",
   "execution_count": 9,
   "metadata": {},
   "outputs": [],
   "source": [
    "dict_1_1 = {}\n",
    "dict_1_2 = {}\n",
    "dict_2 = {}\n",
    "dict_3 = {}"
   ]
  },
  {
   "cell_type": "code",
   "execution_count": 10,
   "metadata": {},
   "outputs": [],
   "source": [
    "reader = csv.reader(open(PATH_INPUT), delimiter=\",\")"
   ]
  },
  {
   "cell_type": "code",
   "execution_count": 12,
   "metadata": {},
   "outputs": [
    {
     "name": "stdout",
     "output_type": "stream",
     "text": [
      "1294.4646129446462465\r"
     ]
    },
    {
     "ename": "Error",
     "evalue": "field larger than field limit (131072)",
     "output_type": "error",
     "traceback": [
      "\u001b[0;31m---------------------------------------------------------------------------\u001b[0m",
      "\u001b[0;31mError\u001b[0m                                     Traceback (most recent call last)",
      "\u001b[0;32m<ipython-input-12-507deabc8285>\u001b[0m in \u001b[0;36m<module>\u001b[0;34m()\u001b[0m\n\u001b[1;32m      2\u001b[0m \u001b[0mcount\u001b[0m \u001b[0;34m=\u001b[0m \u001b[0;36m0\u001b[0m\u001b[0;34m\u001b[0m\u001b[0;34m\u001b[0m\u001b[0m\n\u001b[1;32m      3\u001b[0m \u001b[0mtotal\u001b[0m \u001b[0;34m=\u001b[0m \u001b[0;36m10101010\u001b[0m\u001b[0;34m\u001b[0m\u001b[0;34m\u001b[0m\u001b[0m\n\u001b[0;32m----> 4\u001b[0;31m \u001b[0;32mfor\u001b[0m \u001b[0mline\u001b[0m \u001b[0;32min\u001b[0m \u001b[0mreader\u001b[0m \u001b[0;34m:\u001b[0m\u001b[0;34m\u001b[0m\u001b[0;34m\u001b[0m\u001b[0m\n\u001b[0m\u001b[1;32m      5\u001b[0m     \u001b[0mcount\u001b[0m \u001b[0;34m+=\u001b[0m \u001b[0;36m1\u001b[0m\u001b[0;34m\u001b[0m\u001b[0;34m\u001b[0m\u001b[0m\n\u001b[1;32m      6\u001b[0m     \u001b[0mperc\u001b[0m \u001b[0;34m=\u001b[0m \u001b[0mcount\u001b[0m\u001b[0;34m*\u001b[0m\u001b[0;36m100\u001b[0m\u001b[0;34m/\u001b[0m\u001b[0mtotal\u001b[0m\u001b[0;34m\u001b[0m\u001b[0;34m\u001b[0m\u001b[0m\n",
      "\u001b[0;31mError\u001b[0m: field larger than field limit (131072)"
     ]
    }
   ],
   "source": [
    "\n",
    "count = 0\n",
    "total = 10101010\n",
    "for line in reader :\n",
    "    count += 1\n",
    "    perc = count*100/total\n",
    "    if count %100 == 0:\n",
    "        print(perc,end=\"\\r\")\n",
    "    if not line[1] in  dict_1_1:\n",
    "        dict_1_1[line[1]] = 0\n",
    "    dict_1_1[line[1]] += 1\n",
    "    \n",
    "    if not line[2] in  dict_1_2:\n",
    "        dict_1_2[line[2]] = 0\n",
    "    dict_1_2[line[2]] += 1\n",
    "    \n",
    "    if not line[3].lower() in  dict_2:\n",
    "        dict_2[line[3].lower()] = 0\n",
    "    dict_2[line[3].lower()] += 1\n",
    "    \n",
    "    if line[2] in dict_3 :\n",
    "        if line[3].lower() in  dict_3[line[2]]:\n",
    "            dict_3[line[2]][line[3].lower()] += 1\n",
    "        else :\n",
    "            dict_3[line[2]].update({line[3].lower():1})\n",
    "    else :\n",
    "        dict_3[line[2]] = {line[3].lower():1}\n",
    "    #print(line)\n",
    "    "
   ]
  },
  {
   "cell_type": "code",
   "execution_count": 13,
   "metadata": {},
   "outputs": [
    {
     "name": "stdout",
     "output_type": "stream",
     "text": [
      "1 file written\n",
      "2 files written\n",
      "3 files written\n"
     ]
    }
   ],
   "source": [
    "#Part 4 : Dump\n",
    "with open(file_path+\"src_count.json\", \"w\", encoding='utf-8') as write_file:\n",
    "    json.dump(dict_1_1, write_file, indent=4,ensure_ascii=False)\n",
    "print(\"1 file written\")\n",
    "with open(file_path+\"dest_count.json\", \"w\", encoding='utf-8') as write_file:\n",
    "    json.dump(dict_1_2, write_file, indent=4,ensure_ascii=False)\n",
    "print(\"2 files written\")\n",
    "with open(file_path+\"SN_count.json\", \"w\", encoding='utf-8') as write_file:\n",
    "    json.dump(dict_2, write_file, indent=4,ensure_ascii=False)\n",
    "print(\"3 files written\")\n",
    "with open(file_path+\"dest_SN_count.json\", \"w\", encoding='utf-8') as write_file:\n",
    "    json.dump(dict_3, write_file, indent=4,ensure_ascii=False)"
   ]
  },
  {
   "cell_type": "code",
   "execution_count": 22,
   "metadata": {},
   "outputs": [],
   "source": [
    "#remove\n",
    "count = 0\n",
    "for x in dict_2:\n",
    "    count += 1\n",
    "    dict_2[x] = count"
   ]
  },
  {
   "cell_type": "code",
   "execution_count": 24,
   "metadata": {},
   "outputs": [],
   "source": [
    "with open(file_path+\"SN_Dict.json\", \"w\", encoding='utf-8') as write_file:\n",
    "    json.dump(dict_2, write_file, indent=4,ensure_ascii=False)"
   ]
  },
  {
   "cell_type": "code",
   "execution_count": 41,
   "metadata": {},
   "outputs": [],
   "source": []
  },
  {
   "cell_type": "code",
   "execution_count": 51,
   "metadata": {},
   "outputs": [],
   "source": []
  },
  {
   "cell_type": "code",
   "execution_count": 52,
   "metadata": {},
   "outputs": [],
   "source": []
  },
  {
   "cell_type": "code",
   "execution_count": 53,
   "metadata": {},
   "outputs": [],
   "source": []
  },
  {
   "cell_type": "code",
   "execution_count": null,
   "metadata": {},
   "outputs": [],
   "source": [
    "\n"
   ]
  },
  {
   "cell_type": "code",
   "execution_count": null,
   "metadata": {},
   "outputs": [],
   "source": []
  },
  {
   "cell_type": "code",
   "execution_count": null,
   "metadata": {},
   "outputs": [],
   "source": []
  }
 ],
 "metadata": {
  "kernelspec": {
   "display_name": "Python 3",
   "language": "python",
   "name": "python3"
  },
  "language_info": {
   "codemirror_mode": {
    "name": "ipython",
    "version": 3
   },
   "file_extension": ".py",
   "mimetype": "text/x-python",
   "name": "python",
   "nbconvert_exporter": "python",
   "pygments_lexer": "ipython3",
   "version": "3.6.9"
  }
 },
 "nbformat": 4,
 "nbformat_minor": 2
}
