{
 "cells": [
  {
   "cell_type": "code",
   "execution_count": null,
   "metadata": {},
   "outputs": [],
   "source": [
    "import json\n",
    "\n",
    "with open(file_path+'Correct_Surface_Names.json','r', encoding='utf-8') as file:\n",
    "    Correct_Surface_Names = json.load(file)\n",
    "    file.close()\n",
    "\n",
    "with open(file_path+'Incorrect_Surface_Names.json','r', encoding='utf-8') as file:\n",
    "    Wrong_Surface_Names = json.load(file)\n",
    "    file.close()\n"
   ]
  },
  {
   "cell_type": "code",
   "execution_count": null,
   "metadata": {},
   "outputs": [],
   "source": [
    "def editDistDP(str1, str2):     \n",
    "    m = len(str1)\n",
    "    n = len(str2)\n",
    "    dp = [[0 for x in range(n + 1)] for x in range(m + 1)] \n",
    "    for i in range(m + 1): \n",
    "        for j in range(n + 1): \n",
    "            if i == 0: \n",
    "                dp[i][j] = j    # Min. operations = j \n",
    "            elif j == 0: \n",
    "                dp[i][j] = i    # Min. operations = i \n",
    "            elif str1[i-1] == str2[j-1]:\n",
    "                dp[i][j] = dp[i-1][j-1]\n",
    "            else:\n",
    "                dp[i][j] = 1 + min(dp[i][j-1], dp[i-1][j], dp[i-1][j-1])\n",
    "    return(dp[m][n])\n",
    "                \n"
   ]
  },
  {
   "cell_type": "code",
   "execution_count": null,
   "metadata": {},
   "outputs": [],
   "source": [
    "Edit_Distances = {}\n",
    "for k,v in Wrong_Surface_Names.items():\n",
    "    L = list(v.keys())\n",
    "    Edit_Distances[k] = {}\n",
    "\n",
    "    for l in L:\n",
    "        min_dist = 10**10\n",
    "        for m in list(Correct_Surface_Names[k].keys()):\n",
    "            if editDistDP(l,m)<min_dist:\n",
    "                min_dist=min(min_dist,editDistDP(l,m))\n",
    "                correct = m\n",
    "        Edit_Distances[k][l]=(correct,min_dist)\n",
    "\n",
    "Substrings = {}\n",
    "for k,v in Wrong_Surface_Names.items():\n",
    "    Substrings[k]= {}\n",
    "    correct_list = list(Correct_Surface_Names[k].keys())\n",
    "\n",
    "    for k_,v_ in v.items():\n",
    "        for name in correct_list:\n",
    "            if k_ in name:\n",
    "                Substrings[k][k_] = name\n",
    "                break\n",
    "\n",
    "Superstrings = {}\n",
    "for k,v in Wrong_Surface_Names.items():\n",
    "    Superstrings[k]= {}\n",
    "    correct_list = list(Correct_Surface_Names[k].keys())\n",
    "\n",
    "    for k_,v_ in v.items():\n",
    "        for name in correct_list:\n",
    "            if name in k_:\n",
    "                Superstrings[k][k_] = name\n",
    "                break"
   ]
  },
  {
   "cell_type": "code",
   "execution_count": null,
   "metadata": {},
   "outputs": [],
   "source": [
    "print(\"ED Dumping\")\n",
    "with open(file_path+'Edit_Distances.json','w', encoding='utf-8') as file:\n",
    "    json.dump(Edit_Distances,file,ensure_ascii=False)\n",
    "    file.close()\n",
    "print(\"ED Done\")\n",
    "with open(file_path+'Superstrings.json','w', encoding='utf-8') as file:\n",
    "    json.dump(Superstrings, file,ensure_ascii=False)\n",
    "    file.close()\n",
    "print(\"last to go\")\n",
    "with open(file_path+'Substrings.json','w', encoding='utf-8') as file:\n",
    "    json.dump(Substrings, file,ensure_ascii=False)\n",
    "    file.close()    "
   ]
  }
 ],
 "metadata": {
  "kernelspec": {
   "display_name": "Python 3",
   "language": "python",
   "name": "python3"
  },
  "language_info": {
   "codemirror_mode": {
    "name": "ipython",
    "version": 3
   },
   "file_extension": ".py",
   "mimetype": "text/x-python",
   "name": "python",
   "nbconvert_exporter": "python",
   "pygments_lexer": "ipython3",
   "version": "3.6.9"
  }
 },
 "nbformat": 4,
 "nbformat_minor": 2
}
