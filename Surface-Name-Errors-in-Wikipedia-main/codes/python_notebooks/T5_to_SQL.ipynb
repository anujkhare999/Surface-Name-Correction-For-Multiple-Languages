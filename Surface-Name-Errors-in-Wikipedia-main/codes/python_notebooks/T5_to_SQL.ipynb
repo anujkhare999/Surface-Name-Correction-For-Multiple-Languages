{
 "cells": [
  {
   "cell_type": "code",
   "execution_count": 2,
   "metadata": {},
   "outputs": [],
   "source": [
    "file1 = open('Table5.txt', 'r')\n",
    "Lines = file1.readlines()"
   ]
  },
  {
   "cell_type": "code",
   "execution_count": 3,
   "metadata": {},
   "outputs": [
    {
     "name": "stdout",
     "output_type": "stream",
     "text": [
      "33770314\n"
     ]
    }
   ],
   "source": [
    "print(len(Lines))"
   ]
  },
  {
   "cell_type": "code",
   "execution_count": 4,
   "metadata": {},
   "outputs": [],
   "source": [
    "import pymysql.cursors\n",
    "import time\n",
    "import pandas as a"
   ]
  },
  {
   "cell_type": "code",
   "execution_count": 6,
   "metadata": {},
   "outputs": [
    {
     "name": "stdout",
     "output_type": "stream",
     "text": [
      "Entity_ID, Surface_ID, Frequency, Correct/Wrong\n",
      "\n",
      "2,26608031,1,Lesser-than-3-surface-names\n",
      "\n",
      "2,28292395,3,Lesser-than-3-surface-names\n",
      "\n",
      "2,31659140,1,Lesser-than-3-surface-names\n",
      "\n",
      "4,26608032,48,1\n",
      "\n",
      "4,26782115,3,0\n",
      "\n",
      "4,26926131,33,1\n",
      "\n",
      "4,28570053,1,0\n",
      "\n",
      "4,26608066,1,0\n",
      "\n",
      "4,35268961,1,0\n",
      "\n"
     ]
    }
   ],
   "source": [
    "for i in range(0,10):\n",
    "    print(Lines[i])\n"
   ]
  },
  {
   "cell_type": "code",
   "execution_count": 8,
   "metadata": {},
   "outputs": [
    {
     "name": "stdout",
     "output_type": "stream",
     "text": [
      "99% i.e. 33770001 in 0.42856287956237793\r"
     ]
    },
    {
     "ename": "IndexError",
     "evalue": "list index out of range",
     "output_type": "error",
     "traceback": [
      "\u001b[0;31m---------------------------------------------------------------------------\u001b[0m",
      "\u001b[0;31mIndexError\u001b[0m                                Traceback (most recent call last)",
      "\u001b[0;32m<ipython-input-8-aef15ec1ff54>\u001b[0m in \u001b[0;36m<module>\u001b[0;34m()\u001b[0m\n\u001b[1;32m      5\u001b[0m     \u001b[0mstart\u001b[0m \u001b[0;34m=\u001b[0m \u001b[0mtime\u001b[0m\u001b[0;34m.\u001b[0m\u001b[0mtime\u001b[0m\u001b[0;34m(\u001b[0m\u001b[0;34m)\u001b[0m\u001b[0;34m\u001b[0m\u001b[0;34m\u001b[0m\u001b[0m\n\u001b[1;32m      6\u001b[0m     \u001b[0;32mwhile\u001b[0m \u001b[0mj\u001b[0m \u001b[0;34m<\u001b[0m \u001b[0;36m5000\u001b[0m\u001b[0;34m:\u001b[0m\u001b[0;34m\u001b[0m\u001b[0;34m\u001b[0m\u001b[0m\n\u001b[0;32m----> 7\u001b[0;31m         \u001b[0mline\u001b[0m \u001b[0;34m=\u001b[0m \u001b[0mLines\u001b[0m\u001b[0;34m[\u001b[0m\u001b[0mi\u001b[0m\u001b[0;34m]\u001b[0m\u001b[0;34m\u001b[0m\u001b[0;34m\u001b[0m\u001b[0m\n\u001b[0m\u001b[1;32m      8\u001b[0m         \u001b[0mcols\u001b[0m \u001b[0;34m=\u001b[0m \u001b[0mline\u001b[0m\u001b[0;34m.\u001b[0m\u001b[0msplit\u001b[0m\u001b[0;34m(\u001b[0m\u001b[0;34m\",\"\u001b[0m\u001b[0;34m,\u001b[0m\u001b[0;36m3\u001b[0m\u001b[0;34m)\u001b[0m\u001b[0;34m\u001b[0m\u001b[0;34m\u001b[0m\u001b[0m\n\u001b[1;32m      9\u001b[0m         \u001b[0;32mif\u001b[0m \u001b[0mlen\u001b[0m\u001b[0;34m(\u001b[0m\u001b[0mcols\u001b[0m\u001b[0;34m)\u001b[0m\u001b[0;34m<\u001b[0m\u001b[0;36m3\u001b[0m \u001b[0;32mor\u001b[0m \u001b[0mcols\u001b[0m\u001b[0;34m[\u001b[0m\u001b[0;36m3\u001b[0m\u001b[0;34m]\u001b[0m\u001b[0;34m[\u001b[0m\u001b[0;36m0\u001b[0m\u001b[0;34m]\u001b[0m \u001b[0;34m!=\u001b[0m\u001b[0;34m'L'\u001b[0m\u001b[0;34m:\u001b[0m\u001b[0;34m\u001b[0m\u001b[0;34m\u001b[0m\u001b[0m\n",
      "\u001b[0;31mIndexError\u001b[0m: list index out of range"
     ]
    }
   ],
   "source": [
    "i = 1\n",
    "while i < 33770314:\n",
    "    j = 0\n",
    "    sql2 = \"INSERT IGNORE INTO `entitySurfaceLowFrequency` (entityId,surfaceNamesId) VALUES \"\n",
    "    start = time.time()\n",
    "    while j < 5000:\n",
    "        line = Lines[i]\n",
    "        cols = line.split(\",\",3)\n",
    "        if len(cols)<3 or cols[3][0] !='L':\n",
    "            j = j + 1 \n",
    "            i = i + 1\n",
    "            continue\n",
    "        \n",
    "        #cols[3]= cols[3].replace('\\n', '')\n",
    "    \n",
    "        sql2 = ''.join([sql2,'(\"',cols[0],'\",\"',cols[1],'\"),'])\n",
    "        \n",
    "        i = i + 1\n",
    "        j = j + 1\n",
    "    sql2 = sql2 + \"(1,1);\"\n",
    "    connection = pymysql.connect(host='localhost',port=int(3306),user='root',passwd='wikiwiki2',db='Wiki',charset='utf8mb4', cursorclass=pymysql.cursors.DictCursor)\n",
    "    with connection:\n",
    "        with connection.cursor() as cursor:\n",
    "                cursor.execute(sql2)\n",
    "        connection.commit()\n",
    "    end = time.time()\n",
    "    string2= str((int(i/33770314*100)))+\"% i.e. \" +str(i) + \" in \"+str(end-start)\n",
    "    print(string2 ,end = \"\\r\")"
   ]
  },
  {
   "cell_type": "code",
   "execution_count": null,
   "metadata": {},
   "outputs": [],
   "source": []
  }
 ],
 "metadata": {
  "kernelspec": {
   "display_name": "Python 3",
   "language": "python",
   "name": "python3"
  },
  "language_info": {
   "codemirror_mode": {
    "name": "ipython",
    "version": 3
   },
   "file_extension": ".py",
   "mimetype": "text/x-python",
   "name": "python",
   "nbconvert_exporter": "python",
   "pygments_lexer": "ipython3",
   "version": "3.6.9"
  }
 },
 "nbformat": 4,
 "nbformat_minor": 2
}
